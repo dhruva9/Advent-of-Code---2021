{
 "cells": [
  {
   "cell_type": "code",
   "execution_count": 30,
   "id": "fef10ffd-8279-4be3-a7bb-3af874bae574",
   "metadata": {},
   "outputs": [],
   "source": [
    "import pandas as pd\n",
    "import numpy as np"
   ]
  },
  {
   "cell_type": "code",
   "execution_count": 31,
   "id": "bf571a3e-8c4d-4aff-9734-f18e1bd65276",
   "metadata": {},
   "outputs": [],
   "source": [
    "data = pd.read_csv(\"Day - 1 - Part-II.csv\")"
   ]
  },
  {
   "cell_type": "code",
   "execution_count": 32,
   "id": "0fba9ac1-f112-4f2d-8d46-69e27d9c5b54",
   "metadata": {},
   "outputs": [
    {
     "data": {
      "text/html": [
       "<div>\n",
       "<style scoped>\n",
       "    .dataframe tbody tr th:only-of-type {\n",
       "        vertical-align: middle;\n",
       "    }\n",
       "\n",
       "    .dataframe tbody tr th {\n",
       "        vertical-align: top;\n",
       "    }\n",
       "\n",
       "    .dataframe thead th {\n",
       "        text-align: right;\n",
       "    }\n",
       "</style>\n",
       "<table border=\"1\" class=\"dataframe\">\n",
       "  <thead>\n",
       "    <tr style=\"text-align: right;\">\n",
       "      <th></th>\n",
       "      <th>inputs</th>\n",
       "    </tr>\n",
       "  </thead>\n",
       "  <tbody>\n",
       "    <tr>\n",
       "      <th>0</th>\n",
       "      <td>124</td>\n",
       "    </tr>\n",
       "    <tr>\n",
       "      <th>1</th>\n",
       "      <td>125</td>\n",
       "    </tr>\n",
       "    <tr>\n",
       "      <th>2</th>\n",
       "      <td>127</td>\n",
       "    </tr>\n",
       "    <tr>\n",
       "      <th>3</th>\n",
       "      <td>128</td>\n",
       "    </tr>\n",
       "    <tr>\n",
       "      <th>4</th>\n",
       "      <td>132</td>\n",
       "    </tr>\n",
       "  </tbody>\n",
       "</table>\n",
       "</div>"
      ],
      "text/plain": [
       "   inputs\n",
       "0     124\n",
       "1     125\n",
       "2     127\n",
       "3     128\n",
       "4     132"
      ]
     },
     "execution_count": 32,
     "metadata": {},
     "output_type": "execute_result"
    }
   ],
   "source": [
    "data.head()"
   ]
  },
  {
   "cell_type": "code",
   "execution_count": 19,
   "id": "5d4593f3-d319-4412-9c1b-fddf99990d03",
   "metadata": {},
   "outputs": [],
   "source": [
    "arr = [199, 200, 208, 210, 200, 207, 240, 269, 260, 263]"
   ]
  },
  {
   "cell_type": "code",
   "execution_count": 20,
   "id": "42ce4fdc-ba39-4f31-9381-e8c4ea3765a5",
   "metadata": {},
   "outputs": [],
   "source": [
    "ans = []\n",
    "n = []"
   ]
  },
  {
   "cell_type": "code",
   "execution_count": null,
   "id": "3058c657-36fe-422f-afe1-4b7196d53d11",
   "metadata": {},
   "outputs": [],
   "source": [
    "for i, j, k in zip(arr, arr[1: ], arr[2:]):\n",
    "    n.append(i+j+k)"
   ]
  },
  {
   "cell_type": "code",
   "execution_count": 33,
   "id": "6570130b-dc4f-4047-8077-3e6454a843a8",
   "metadata": {},
   "outputs": [
    {
     "name": "stdout",
     "output_type": "stream",
     "text": [
      "5\n"
     ]
    }
   ],
   "source": [
    "count = 0\n",
    "for previous, current in zip(n, n[1:]):\n",
    "    if current > previous:\n",
    "        count +=1\n",
    "print(count)"
   ]
  },
  {
   "cell_type": "code",
   "execution_count": 34,
   "id": "96e16330-7c05-435a-9ac7-2dd56f37ae5f",
   "metadata": {},
   "outputs": [],
   "source": [
    "ans = []\n",
    "n = []"
   ]
  },
  {
   "cell_type": "code",
   "execution_count": 35,
   "id": "623743cd-6ed7-49f1-8220-fca19d74ceba",
   "metadata": {},
   "outputs": [],
   "source": [
    "input_arr = [num for num in data['inputs']]"
   ]
  },
  {
   "cell_type": "code",
   "execution_count": 36,
   "id": "516f926c-6a31-476f-868a-f2365512320d",
   "metadata": {},
   "outputs": [],
   "source": [
    "for i, j, k in zip(input_arr, input_arr[1: ], input_arr[2:]):\n",
    "    n.append(i+j+k)"
   ]
  },
  {
   "cell_type": "code",
   "execution_count": 37,
   "id": "93058cf5-f004-4c62-bd4a-936d00541e6c",
   "metadata": {},
   "outputs": [],
   "source": [
    "count = 0"
   ]
  },
  {
   "cell_type": "code",
   "execution_count": 38,
   "id": "1d31e29d-89f6-4106-9df9-5b38efe4942b",
   "metadata": {},
   "outputs": [],
   "source": [
    "for previous, current in zip(n, n[1:]):\n",
    "    if current > previous:\n",
    "        count +=1"
   ]
  },
  {
   "cell_type": "code",
   "execution_count": 39,
   "id": "4e7fd8e0-8f58-4606-a32e-1b712643b32b",
   "metadata": {},
   "outputs": [
    {
     "name": "stdout",
     "output_type": "stream",
     "text": [
      "1600\n"
     ]
    }
   ],
   "source": [
    "print(count)"
   ]
  },
  {
   "cell_type": "code",
   "execution_count": null,
   "id": "20dc2f46-36c6-4f54-9226-96abef0b1828",
   "metadata": {},
   "outputs": [],
   "source": []
  },
  {
   "cell_type": "code",
   "execution_count": null,
   "id": "e759ea6a-e593-4101-a138-5a0c1ec66b86",
   "metadata": {},
   "outputs": [],
   "source": []
  },
  {
   "cell_type": "code",
   "execution_count": null,
   "id": "0358c09b-af27-491b-ba49-fcb6f1e035a8",
   "metadata": {},
   "outputs": [],
   "source": []
  }
 ],
 "metadata": {
  "kernelspec": {
   "display_name": "Python 3",
   "language": "python",
   "name": "python3"
  },
  "language_info": {
   "codemirror_mode": {
    "name": "ipython",
    "version": 3
   },
   "file_extension": ".py",
   "mimetype": "text/x-python",
   "name": "python",
   "nbconvert_exporter": "python",
   "pygments_lexer": "ipython3",
   "version": "3.8.8"
  }
 },
 "nbformat": 4,
 "nbformat_minor": 5
}
